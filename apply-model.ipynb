{
 "cells": [
  {
   "cell_type": "code",
   "execution_count": 3,
   "id": "779e1cd8",
   "metadata": {},
   "outputs": [],
   "source": [
    "#load the AR model from file\n",
    "from statsmodels.tsa.ar_model import AutoRegResults\n",
    "import numpy as np\n",
    "import pandas as pd"
   ]
  },
  {
   "cell_type": "code",
   "execution_count": 6,
   "id": "5100c230",
   "metadata": {},
   "outputs": [],
   "source": [
    "#Load model\n",
    "model = AutoRegResults.load('ar_model.pkl')\n",
    "\n",
    "#Load data\n",
    "data = np.load('ar_data.npy')\n",
    "last_ob = np.load('ar_obs.npy')"
   ]
  },
  {
   "cell_type": "code",
   "execution_count": 7,
   "id": "e5ed575c",
   "metadata": {},
   "outputs": [
    {
     "name": "stdout",
     "output_type": "stream",
     "text": [
      "Prediction: 28.994218\n"
     ]
    }
   ],
   "source": [
    "#Make prediction\n",
    "predictions = model.predict(start=len(data), end=len(data))\n",
    "\n",
    "#Transform prediction\n",
    "yhat = predictions[0] + last_ob[0]\n",
    "print('Prediction: %f' % yhat)"
   ]
  },
  {
   "cell_type": "code",
   "execution_count": 10,
   "id": "8ec5f063",
   "metadata": {},
   "outputs": [
    {
     "name": "stdout",
     "output_type": "stream",
     "text": [
      "[ 1  2  2 ...  1  1 -1]\n"
     ]
    }
   ],
   "source": [
    "print(data)"
   ]
  }
 ],
 "metadata": {
  "kernelspec": {
   "display_name": "Python 3 (ipykernel)",
   "language": "python",
   "name": "python3"
  },
  "language_info": {
   "codemirror_mode": {
    "name": "ipython",
    "version": 3
   },
   "file_extension": ".py",
   "mimetype": "text/x-python",
   "name": "python",
   "nbconvert_exporter": "python",
   "pygments_lexer": "ipython3",
   "version": "3.9.12"
  }
 },
 "nbformat": 4,
 "nbformat_minor": 5
}
