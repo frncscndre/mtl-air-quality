{
 "cells": [
  {
   "cell_type": "code",
   "execution_count": 3,
   "id": "f1ccc708",
   "metadata": {},
   "outputs": [],
   "source": [
    "import requests\n",
    "from bs4 import BeautifulSoup\n",
    "\n",
    "source_code = requests.get('https://donnees.montreal.ca/ville-de-montreal/rsqa-iqa-historique')\n",
    "soup = BeautifulSoup(source_code.content, 'lxml')\n",
    "links = []\n",
    "\n",
    "for link in soup.find_all('a', href=True):\n",
    "    links.append(str(link.get('href')))\n",
    "    \n",
    "matcher = 'rsqa-indice-qualite-air-2022-2024.csv'\n",
    "downloadFile = list(filter(lambda x: matcher in x, links))\n",
    "\n",
    "downloadFile = list(dict.fromkeys(downloadFile))\n",
    "dowloadURL = downloadFile[0]"
   ]
  },
  {
   "cell_type": "code",
   "execution_count": 4,
   "id": "c8cf39ed",
   "metadata": {},
   "outputs": [
    {
     "data": {
      "text/plain": [
       "9674738"
      ]
     },
     "execution_count": 4,
     "metadata": {},
     "output_type": "execute_result"
    }
   ],
   "source": [
    "r = requests.get(dowloadURL, allow_redirects=True)\n",
    "open('rsqa-indice-qualite-air-2022-2024.csv', 'wb').write(r.content)"
   ]
  },
  {
   "cell_type": "code",
   "execution_count": null,
   "id": "8774f2fc",
   "metadata": {},
   "outputs": [],
   "source": []
  }
 ],
 "metadata": {
  "kernelspec": {
   "display_name": "Python 3 (ipykernel)",
   "language": "python",
   "name": "python3"
  },
  "language_info": {
   "codemirror_mode": {
    "name": "ipython",
    "version": 3
   },
   "file_extension": ".py",
   "mimetype": "text/x-python",
   "name": "python",
   "nbconvert_exporter": "python",
   "pygments_lexer": "ipython3",
   "version": "3.9.7"
  }
 },
 "nbformat": 4,
 "nbformat_minor": 5
}
