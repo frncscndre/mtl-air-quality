{
 "cells": [
  {
   "cell_type": "code",
   "execution_count": 1,
   "id": "3f26c9cd",
   "metadata": {},
   "outputs": [],
   "source": [
    "import requests\n",
    "from bs4 import BeautifulSoup\n",
    "\n",
    "source_code = requests.get('https://donnees.montreal.ca/ville-de-montreal/rsqa-iqa-historique') #Source of Air quality data\n",
    "soup = BeautifulSoup(source_code.content, 'lxml')\n",
    "\n",
    "#Finds all links in source url\n",
    "links = []\n",
    "for link in soup.find_all('a', href=True):\n",
    "    links.append(str(link.get('href')))\n",
    "    \n",
    "matcher = 'rsqa-indice-qualite-air-2022-2024.csv' #Name of the file of interest\n",
    "downloadFile = list(filter(lambda x: matcher in x, links))\n",
    "\n",
    "downloadFile = list(dict.fromkeys(downloadFile)) #Remove duplicates\n",
    "dowloadURL = downloadFile[0] #URL of the file to download"
   ]
  },
  {
   "cell_type": "code",
   "execution_count": 2,
   "id": "1bcd9080",
   "metadata": {},
   "outputs": [
    {
     "data": {
      "text/plain": [
       "9852560"
      ]
     },
     "execution_count": 2,
     "metadata": {},
     "output_type": "execute_result"
    }
   ],
   "source": [
    "#Download csv file\n",
    "r = requests.get(dowloadURL, allow_redirects=True)\n",
    "open('rsqa-indice-qualite-air-2022-2024.csv', 'wb').write(r.content)"
   ]
  }
 ],
 "metadata": {
  "kernelspec": {
   "display_name": "Python 3 (ipykernel)",
   "language": "python",
   "name": "python3"
  },
  "language_info": {
   "codemirror_mode": {
    "name": "ipython",
    "version": 3
   },
   "file_extension": ".py",
   "mimetype": "text/x-python",
   "name": "python",
   "nbconvert_exporter": "python",
   "pygments_lexer": "ipython3",
   "version": "3.9.7"
  }
 },
 "nbformat": 4,
 "nbformat_minor": 5
}
